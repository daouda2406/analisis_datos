{
 "cells": [
  {
   "cell_type": "markdown",
   "id": "996ce4b6-68d6-4ad5-9aed-722269d8c4e4",
   "metadata": {},
   "source": [
    "GET /{lang}/datos/{category}/{widget}?[query]\n",
    "\n",
    "*PARAMETER\tDESCRIPTION*\n",
    "\n",
    "lang Defines the response language.\n",
    "category Defines the general category.\n",
    "widget Defines the particular widget to be retrieved.\n",
    "query Set of parameters used to filter the requested data.\n",
    "\n",
    "*Headers*\n",
    "Accept: application/json;\n",
    "Content-Type: application/json\n",
    "Host: apidatos.ree.es\n",
    "\n",
    "/en/datos/generacion/demanda-maxima-horaria\n",
    "\n",
    "PARAMETER\tDESCRIPTION\n",
    "    \n",
    "    start_date Defines the starting date in ISO 8601 format: YYYY-MM-DDTHH:MM\n",
    "    \n",
    "    end_date Defines the ending date in ISO 8601 format: YYYY-MM-DDTHH:MM\n",
    "    \n",
    "    time_trunc Defines the time aggregation of the requested data. Valid values are:\n",
    "*hour*\n",
    "day\n",
    "month\n",
    "year\n",
    "    \n",
    "    // geo_trunc (Optional) Defines the geographical scope of the requested data. Currently the only allowed value is:\n",
    "electric_system\n",
    "\n",
    "    // geo_limit (Optional) Defines the electrical system of the requested data. Valid values are:\n",
    "    // don't need these ^ as all are defined below in geo_ids\n",
    "peninsular 8741\n",
    "canarias 8742\n",
    "baleares 8743\n",
    "ceuta 8744\n",
    "melilla 8745\n",
    "ccaa \n",
    "   \n",
    "   // geo_ids (Optional) Defines the ID of the previously defined autonomous community/electrical system.\n",
    "   // Format: Region = autonomous_community geo_limit ccaa geo_id #  -- &geo_limit=ccaa&geo_ids=4\n",
    "\n",
    "Comunidades Autónomas:\n",
    "Andalucía 4 --> &geo_limit=ccaa&geo_ids=4\n",
    "Aragón 5\n",
    "Principado de Asturias 11\n",
    "Islas Baleares\n",
    "Canarias\n",
    "Cantabria 6\n",
    "Castilla-La Mancha 7\n",
    "Castilla y León 8\n",
    "Cataluña 9\n",
    "Comunidad Foral de Navarra 14\n",
    "Comunidad Valenciana 15\n",
    "Extremadura 16\n",
    "Galicia 17\n",
    "País Vasco 10\n",
    "La Rioja 20\n",
    "Región de Murcia 21\n",
    "Comunidad de Madrid 13\n",
    "Islas Beleares 8743\n",
    "Islas Canarias 8742\n",
    "Comunidad de Ceuta 8744\n",
    "Comunidad de Melilla 8745\n",
    "\n"
   ]
  },
  {
   "cell_type": "markdown",
   "id": "905ad22e-960c-46c6-bb0f-8eeb1c23e440",
   "metadata": {},
   "source": [
    "Below are listed a few example requests combining several query parameters:\n",
    "\n",
    "Requesting the daily balance widget for January (default geo_limit; Spanish):\n",
    "https://apidatos.ree.es/es/datos/balance/balance-electrico?start_date=2019-01-01T00:00&end_date=2019-01-31T23:59&time_trunc=day\n",
    "\n",
    "https://apidatos.ree.es/es/datos/generacion/estructura-generacion?start_date=2014-01-01T00:00&end_date=2018-12-31T23:59&time_trunc=year&geo_trunc=electric_system&geo_limit=ccaa&geo_ids=7"
   ]
  },
  {
   "cell_type": "code",
   "execution_count": null,
   "id": "09f5066d-a221-4674-9cf4-7b137127e247",
   "metadata": {},
   "outputs": [],
   "source": [
    "import requests\n",
    "import pandas as pd"
   ]
  },
  {
   "cell_type": "code",
   "execution_count": null,
   "id": "87e93b28-f674-40a0-b1cb-6926b7a7025b",
   "metadata": {},
   "outputs": [],
   "source": [
    "# Headers\n",
    "Accept: application/json;\n",
    "Content-Type: application/json\n",
    "Host: apidatos.ree.es"
   ]
  },
  {
   "cell_type": "code",
   "execution_count": null,
   "id": "ae1d4353-a615-4371-902d-81c5edec0321",
   "metadata": {},
   "outputs": [],
   "source": [
    "# User Input token\n",
    "# ? where do we use this?\n",
    "token = \"XYZ\""
   ]
  },
  {
   "cell_type": "code",
   "execution_count": null,
   "id": "ef5b7458-7ca0-4285-9b54-c4159edf633c",
   "metadata": {},
   "outputs": [],
   "source": [
    "# User Input desired parameter specifications: periodo determinado, desglosado por “comunidad autónoma” y por “tecnología” \n",
    "# ? does this mean we define the time range, but arrange by CA y T or groupby? If groupby, remove the portion before to select CA \n",
    "# and remove it form the URL; it said the default will be peninsular or national, we can check\n",
    "\n",
    "start_date = #YYYY-MM-DDTHH:MM\n",
    "end_date = #YYYY-MM-DDTHH:MM"
   ]
  },
  {
   "cell_type": "code",
   "execution_count": null,
   "id": "49da5b14-50b1-4873-89f8-5bb2e83e15fa",
   "metadata": {},
   "outputs": [],
   "source": [
    "# User Input Comunidad Autonoma, format will be: &geo_limit=ccaa&geo_ids=4 for Andalucia\n",
    "geo_ids = #see cell below"
   ]
  },
  {
   "cell_type": "markdown",
   "id": "5817a704-59f9-4b01-937f-e19ff52fecb3",
   "metadata": {},
   "source": [
    "*Geo_ids de Comunidades Autónomas:*\n",
    "Andalucía 4 \n",
    "Aragón 5\n",
    "Principado de Asturias 11\n",
    "Islas Baleares\n",
    "Canarias\n",
    "Cantabria 6\n",
    "Castilla-La Mancha 7\n",
    "Castilla y León 8\n",
    "Cataluña 9\n",
    "Comunidad Foral de Navarra 14\n",
    "Comunidad Valenciana 15\n",
    "Extremadura 16\n",
    "Galicia 17\n",
    "País Vasco 10\n",
    "La Rioja 20\n",
    "Región de Murcia 21\n",
    "Comunidad de Madrid 13\n",
    "Islas Beleares 8743\n",
    "Islas Canarias 8742\n",
    "Comunidad de Ceuta 8744\n",
    "Comunidad de Melilla 8745"
   ]
  },
  {
   "cell_type": "code",
   "execution_count": null,
   "id": "6633b998-5254-4b54-adcd-45da7b130809",
   "metadata": {},
   "outputs": [],
   "source": [
    "# Defined parameters: generación eléctrica horaria\n",
    "# /en/datos/generacion/demanda-maxima-horaria -- is this the right one?  delete comment once confirmed\n",
    "\n",
    "#GET /{lang}/datos/{category}/{widget}?[query]\n",
    "lang = #Defines the response language.\n",
    "category = #Defines the general category.\n",
    "widget = #Defines the particular widget to be retrieved.\n",
    "query = #Set of parameters used to filter the requested data.\n",
    "time_trunc = \"hour\"\n",
    "\n",
    "# Sample url - delete later:\n",
    "# https://apidatos.ree.es/es/datos/generacion/estructura-generacion?start_date=2014-01-01T00:00&end_date=2018-12-31T23:59&\n",
    "# time_trunc=year&geo_trunc=electric_system&geo_limit=ccaa&geo_ids=7\n",
    "\n",
    "# should look like this for 28/7/2020-29/7/2020 C.d. MAdrid\n",
    "# /en/datos/generacion/demanda-maxima-horaria/?start_date=2020-07-28T00:00&end_date=2020-07-29T00:00&time_trunc=hour&geo_trunc=electric_system&geo_limit=ccaa&geo_ids=13\n",
    "\n",
    "GET /{lang}/datos/{category}/{widget}?start_date={start_date}&end_date={end_date}&time_trunc={time_trunc}&geo_trunc=electric_system&geo_limit=ccaa&geo_ids={geo_ids}\n"
   ]
  }
 ],
 "metadata": {
  "kernelspec": {
   "display_name": "Python 3 (ipykernel)",
   "language": "python",
   "name": "python3"
  },
  "language_info": {
   "codemirror_mode": {
    "name": "ipython",
    "version": 3
   },
   "file_extension": ".py",
   "mimetype": "text/x-python",
   "name": "python",
   "nbconvert_exporter": "python",
   "pygments_lexer": "ipython3",
   "version": "3.11.0"
  }
 },
 "nbformat": 4,
 "nbformat_minor": 5
}
